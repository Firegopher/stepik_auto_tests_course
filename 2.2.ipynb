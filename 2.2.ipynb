{
 "cells": [
  {
   "cell_type": "code",
   "execution_count": null,
   "metadata": {},
   "outputs": [],
   "source": [
    "from selenium import webdriver\n",
    "from selenium.webdriver.support.ui import Select\n",
    "import time\n",
    "link = 'http://suninjuly.github.io/selects1.html'\n",
    "browser = webdriver.Chrome()\n",
    "browser.get(link)\n",
    "num1 = browser.find_element_by_id('num1')\n",
    "x = int(num1.text)\n",
    "num2 = browser.find_element_by_id('num2')\n",
    "y = int(num2.text)\n",
    "z = x + y\n",
    "print(z)\n",
    "select = Select(browser.find_element_by_tag_name(\"select\"))\n",
    "select.select_by_value(str(z))\n",
    "button = browser.find_element_by_xpath(\"//button[text()='Submit']\")\n",
    "button.click()\n",
    "time.sleep(5)\n",
    "browser.quit()"
   ]
  },
  {
   "cell_type": "code",
   "execution_count": null,
   "metadata": {},
   "outputs": [],
   "source": [
    "from selenium import webdriver\n",
    "import time\n",
    "browser = webdriver.Chrome()\n",
    "link = \"https://SunInJuly.github.io/execute_script.html\"\n",
    "browser.get(link)\n",
    "button = browser.find_element_by_tag_name(\"button\")\n",
    "time.sleep(2)\n",
    "browser.execute_script(\"return arguments[0].scrollIntoView(true);\", button)\n",
    "time.sleep(2)\n",
    "button.click()"
   ]
  },
  {
   "cell_type": "code",
   "execution_count": null,
   "metadata": {},
   "outputs": [],
   "source": [
    "from selenium import webdriver\n",
    "import time\n",
    "import math\n",
    "browser = webdriver.Chrome()\n",
    "link = \"http://suninjuly.github.io/execute_script.html\"\n",
    "def calc(x):\n",
    "  return str(math.log(abs(12*math.sin((int(x))))))\n",
    "try:\n",
    "    browser.get(link)\n",
    "    x_element = browser.find_element_by_id('input_value')\n",
    "    x = x_element.text\n",
    "    print(x)\n",
    "    y = calc(x)\n",
    "    print(y)\n",
    "    input = browser.find_element_by_id('answer')\n",
    "    input.send_keys(y)\n",
    "    checkbox = browser.find_element_by_id('robotCheckbox')\n",
    "    checkbox.click()\n",
    "    browser.execute_script(\"window.scrollBy(0, 100);\")\n",
    "    radiobutton = browser.find_element_by_id('robotsRule')\n",
    "    radiobutton.click()\n",
    "    button = browser.find_element_by_xpath(\"//button[text()='Submit']\")\n",
    "    button.click()\n",
    "finally:\n",
    "    time.sleep(3)\n",
    "    browser.quit()\n"
   ]
  },
  {
   "cell_type": "code",
   "execution_count": 47,
   "metadata": {},
   "outputs": [],
   "source": [
    "from selenium import webdriver\n",
    "import os \n",
    "import time\n",
    "browser = webdriver.Chrome()\n",
    "link = \"http://suninjuly.github.io/file_input.html\"\n",
    "try:\n",
    "    browser.get(link)\n",
    "    input1 = browser.find_element_by_name('firstname')\n",
    "    input1.send_keys('Пупкин')\n",
    "    input2 = browser.find_element_by_name('lastname')\n",
    "    input2.send_keys('Вася')\n",
    "    input3 = browser.find_element_by_name('email')\n",
    "    input3.send_keys('1@1.1')\n",
    "    current_dir = os.path.abspath(os.path.dirname('selenium_course'))    # получаем путь к директории текущего исполняемого файла \n",
    "    file_path = os.path.join(current_dir, '.txt')           # добавляем к этому пути имя файла \n",
    "    file_input = browser.find_element_by_id('file')\n",
    "    file_input.send_keys(file_path)\n",
    "    button = browser.find_element_by_xpath(\"//button[text()='Submit']\")\n",
    "    button.click()\n",
    "finally:\n",
    "    time.sleep(5)\n",
    "    #browser.quit()"
   ]
  },
  {
   "cell_type": "code",
   "execution_count": null,
   "metadata": {},
   "outputs": [],
   "source": []
  }
 ],
 "metadata": {
  "interpreter": {
   "hash": "2917b53f58ca94569b522e642a7ee0109876f9a35420e3af5ca5587862e6502c"
  },
  "kernelspec": {
   "display_name": "Python 3.10.1 64-bit",
   "language": "python",
   "name": "python3"
  },
  "language_info": {
   "codemirror_mode": {
    "name": "ipython",
    "version": 3
   },
   "file_extension": ".py",
   "mimetype": "text/x-python",
   "name": "python",
   "nbconvert_exporter": "python",
   "pygments_lexer": "ipython3",
   "version": "3.10.1"
  },
  "orig_nbformat": 4
 },
 "nbformat": 4,
 "nbformat_minor": 2
}
