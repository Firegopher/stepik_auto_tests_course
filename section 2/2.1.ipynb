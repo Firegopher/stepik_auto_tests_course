{
 "cells": [
  {
   "cell_type": "code",
   "execution_count": 1,
   "metadata": {},
   "outputs": [
    {
     "name": "stdout",
     "output_type": "stream",
     "text": [
      "31\n"
     ]
    }
   ],
   "source": [
    "from selenium import webdriver\n",
    "import time\n",
    "import math\n",
    "def calc(x):\n",
    "  return str(math.log(abs(12*math.sin(int(x)))))\n",
    "link = \"http://suninjuly.github.io/get_attribute.html\"\n",
    "browser = webdriver.Chrome()\n",
    "try:\n",
    "    browser.get(link)\n",
    "    treasure = browser.find_element_by_id('treasure')\n",
    "    x = treasure.get_attribute('valuex')\n",
    "    print(x)\n",
    "    y = calc(x)\n",
    "    input = browser.find_element_by_css_selector('#answer')\n",
    "    input.send_keys(y)\n",
    "    checkbox = browser.find_element_by_id('robotCheckbox')\n",
    "    checkbox.click()\n",
    "    radiobutton = browser.find_element_by_id('robotsRule')\n",
    "    radiobutton.click()\n",
    "    time.sleep(3)\n",
    "    button = browser.find_element_by_xpath(\"//button[text()='Submit']\")\n",
    "    button.click()\n",
    "finally:\n",
    "    time.sleep(3)\n",
    "    browser.quit()\n"
   ]
  },
  {
   "cell_type": "code",
   "execution_count": null,
   "metadata": {},
   "outputs": [],
   "source": [
    "from selenium import webdriver\n",
    "link = \"http://suninjuly.github.io/math.html\"\n",
    "browser = webdriver.Chrome()\n",
    "try:\n",
    "    browser.get(link)\n",
    "    people_radio = browser.find_element_by_id(\"peopleRule\")\n",
    "    people_checked = people_radio.get_attribute(\"checked\")\n",
    "    print(\"value of people radio: \", people_checked)\n",
    "    assert people_checked is not None, \"People radio is not selected by default\"\n",
    "    robots_radio = browser.find_element_by_id(\"robotsRule\")\n",
    "    robots_checked = robots_radio.get_attribute(\"checked\")\n",
    "    assert robots_checked is not None, \"Т дурак?\"\n",
    "finally:\n",
    "    #time.sleep(3)\n",
    "    browser.quit()\n"
   ]
  }
 ],
 "metadata": {
  "interpreter": {
   "hash": "2917b53f58ca94569b522e642a7ee0109876f9a35420e3af5ca5587862e6502c"
  },
  "kernelspec": {
   "display_name": "Python 3.10.1 64-bit",
   "language": "python",
   "name": "python3"
  },
  "language_info": {
   "codemirror_mode": {
    "name": "ipython",
    "version": 3
   },
   "file_extension": ".py",
   "mimetype": "text/x-python",
   "name": "python",
   "nbconvert_exporter": "python",
   "pygments_lexer": "ipython3",
   "version": "3.10.1"
  },
  "orig_nbformat": 4
 },
 "nbformat": 4,
 "nbformat_minor": 2
}
