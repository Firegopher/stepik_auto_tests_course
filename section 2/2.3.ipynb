{
 "cells": [
  {
   "cell_type": "code",
   "execution_count": null,
   "metadata": {},
   "outputs": [],
   "source": [
    "import time\n",
    "from selenium import webdriver\n",
    "from selenium.webdriver.support.ui import Select\n",
    "browser = webdriver.Chrome()\n",
    "browser.get(\"http://172.24.14.103:30708/p001/case/new\")\n",
    "time.sleep(4)\n",
    "cause = browser.find_element_by_css_selector(\"#StatementNew_resCreateReasonRefId .ant-select-selection__rendered .ant-select-selection-selected-value\")\n",
    "cause.click()\n",
    "#cause_select.select_by_value(\"Получение РВП впервые совершеннолетним/несовершеннолетним ИГ (ЛБГ)\")\n",
    "#cause = browser.find_element_by_id('//li[@class=\"ant-select-dropdown-menu-item ant-select-dropdown-menu-item-selected normal-white-space\"]')\n",
    "#cause.click()\n",
    "#reason = browser.find_element_by_xpath('//li[@class=\"ant-select-dropdown-menu-item ant-select-dropdown-menu-item-active normal-white-space\"]')\n",
    "#reason.click()\n",
    "time.sleep(2)\n",
    "browser.quit()"
   ]
  }
 ],
 "metadata": {
  "interpreter": {
   "hash": "2917b53f58ca94569b522e642a7ee0109876f9a35420e3af5ca5587862e6502c"
  },
  "kernelspec": {
   "display_name": "Python 3.10.1 64-bit",
   "language": "python",
   "name": "python3"
  },
  "language_info": {
   "codemirror_mode": {
    "name": "ipython",
    "version": 3
   },
   "file_extension": ".py",
   "mimetype": "text/x-python",
   "name": "python",
   "nbconvert_exporter": "python",
   "pygments_lexer": "ipython3",
   "version": "3.10.1"
  },
  "orig_nbformat": 4
 },
 "nbformat": 4,
 "nbformat_minor": 2
}
