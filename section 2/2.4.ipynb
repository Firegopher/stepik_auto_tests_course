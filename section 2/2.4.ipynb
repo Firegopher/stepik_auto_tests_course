{
 "cells": [
  {
   "cell_type": "code",
   "execution_count": null,
   "metadata": {},
   "outputs": [],
   "source": [
    "s = 'My Name is Julia'\n",
    "\n",
    "if 'Name' in s:\n",
    "    print('Substring found')\n",
    "\n",
    "index = s.find('Name')\n",
    "if index != -1:\n",
    "    print(f'Substring found at index {index}')"
   ]
  }
 ],
 "metadata": {
  "interpreter": {
   "hash": "2917b53f58ca94569b522e642a7ee0109876f9a35420e3af5ca5587862e6502c"
  },
  "kernelspec": {
   "display_name": "Python 3.10.1 64-bit",
   "language": "python",
   "name": "python3"
  },
  "language_info": {
   "codemirror_mode": {
    "name": "ipython",
    "version": 3
   },
   "file_extension": ".py",
   "mimetype": "text/x-python",
   "name": "python",
   "nbconvert_exporter": "python",
   "pygments_lexer": "ipython3",
   "version": "3.10.1"
  },
  "orig_nbformat": 4
 },
 "nbformat": 4,
 "nbformat_minor": 2
}
